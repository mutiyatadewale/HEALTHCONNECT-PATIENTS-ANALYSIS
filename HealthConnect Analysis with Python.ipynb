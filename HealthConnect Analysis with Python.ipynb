{
 "cells": [
  {
   "cell_type": "markdown",
   "id": "ba086e6a-1b98-403c-a194-34d8999704f8",
   "metadata": {},
   "source": [
    "# **STATISTICAL (DESCRIPTIVE AND PREDICTIVE) ANALYSIS OF HEALTHCONNECT DATASET** "
   ]
  },
  {
   "cell_type": "markdown",
   "id": "4e664233-acb0-471c-9147-9b23c63cc125",
   "metadata": {},
   "source": [
    "#### The objective is to analyze the organization’s patient database to discover trends and insights.  \n",
    "The company is interested in identifying common health issues, treatment outcomes,   \n",
    "and geographical distribution of diseases to better tailor its services.   "
   ]
  },
  {
   "cell_type": "markdown",
   "id": "60dad160-3438-495c-a839-2a66fb349a9f",
   "metadata": {},
   "source": [
    "#### **Importing Dataset** "
   ]
  },
  {
   "cell_type": "code",
   "execution_count": 4,
   "id": "46f009e4-5d0a-4787-8ece-2e71d4817dfc",
   "metadata": {},
   "outputs": [],
   "source": [
    "## I will start with importing pandas, a powerful open_source library in Python for data manipulation and analysis\n",
    "import pandas as pd"
   ]
  },
  {
   "cell_type": "code",
   "execution_count": 5,
   "id": "eb158307-55fd-40d9-8dc1-e4b0229f0764",
   "metadata": {},
   "outputs": [],
   "source": [
    "## importing healthconnect dataset to be read by panda\n",
    "file ='C:/Users/USER/Desktop/3mtt capstone data/3mtt capstone data.csv'\n",
    "data= pd.read_csv (file)"
   ]
  },
  {
   "cell_type": "markdown",
   "id": "98be1ded-d577-443f-907f-60c51d6b8b65",
   "metadata": {},
   "source": [
    "#### **Cleaning Dataset**"
   ]
  },
  {
   "cell_type": "code",
   "execution_count": 7,
   "id": "ed238ec8-1665-4d3e-b9aa-3a1c8150b4d1",
   "metadata": {},
   "outputs": [
    {
     "data": {
      "text/plain": [
       "Name                  0\n",
       "Age                   0\n",
       "Gender                0\n",
       "Blood Type            0\n",
       "Medical Condition     0\n",
       "Date of Admission     0\n",
       "Doctor                0\n",
       "Hospital              0\n",
       "Insurance Provider    0\n",
       "Billing Amount        0\n",
       "Room Number           0\n",
       "Admission Type        0\n",
       "Discharge Date        0\n",
       "Medication            0\n",
       "Test Results          0\n",
       "dtype: int64"
      ]
     },
     "execution_count": 7,
     "metadata": {},
     "output_type": "execute_result"
    }
   ],
   "source": [
    "## Checking for missing values\n",
    "data.isna().sum()"
   ]
  },
  {
   "cell_type": "code",
   "execution_count": 8,
   "id": "1c9a78b7-c883-4a72-a5d4-80f0dc260333",
   "metadata": {},
   "outputs": [
    {
     "data": {
      "text/plain": [
       "534"
      ]
     },
     "execution_count": 8,
     "metadata": {},
     "output_type": "execute_result"
    }
   ],
   "source": [
    "## Checking for duplicate values\n",
    "data.duplicated().sum()"
   ]
  },
  {
   "cell_type": "code",
   "execution_count": 9,
   "id": "3887801c-8ee3-485f-82de-115c28a0633e",
   "metadata": {},
   "outputs": [
    {
     "data": {
      "text/plain": [
       "0        False\n",
       "1        False\n",
       "2        False\n",
       "3        False\n",
       "4        False\n",
       "         ...  \n",
       "55495    False\n",
       "55496    False\n",
       "55497    False\n",
       "55498    False\n",
       "55499    False\n",
       "Length: 55500, dtype: bool"
      ]
     },
     "execution_count": 9,
     "metadata": {},
     "output_type": "execute_result"
    }
   ],
   "source": [
    "## Checking for the details of duplicate values\n",
    "data.duplicated()"
   ]
  },
  {
   "cell_type": "code",
   "execution_count": 10,
   "id": "d873b075-31bb-4b2d-a9db-20cb595cc106",
   "metadata": {},
   "outputs": [],
   "source": [
    "## Dropping the duplicate values\n",
    "data.drop_duplicates()\n",
    "data=data.drop_duplicates()"
   ]
  },
  {
   "cell_type": "code",
   "execution_count": 11,
   "id": "d91c706c-8743-428b-a3f1-278cfcc09762",
   "metadata": {},
   "outputs": [
    {
     "data": {
      "text/plain": [
       "0"
      ]
     },
     "execution_count": 11,
     "metadata": {},
     "output_type": "execute_result"
    }
   ],
   "source": [
    "## confirming duplicate values have been successfully removed\n",
    "data.duplicated().sum()"
   ]
  },
  {
   "cell_type": "code",
   "execution_count": 12,
   "id": "952f3549-ffdc-4b8a-ba2b-366616193742",
   "metadata": {},
   "outputs": [
    {
     "name": "stdout",
     "output_type": "stream",
     "text": [
      "<class 'pandas.core.frame.DataFrame'>\n",
      "Index: 54966 entries, 0 to 55499\n",
      "Data columns (total 15 columns):\n",
      " #   Column              Non-Null Count  Dtype  \n",
      "---  ------              --------------  -----  \n",
      " 0   Name                54966 non-null  object \n",
      " 1   Age                 54966 non-null  int64  \n",
      " 2   Gender              54966 non-null  object \n",
      " 3   Blood Type          54966 non-null  object \n",
      " 4   Medical Condition   54966 non-null  object \n",
      " 5   Date of Admission   54966 non-null  object \n",
      " 6   Doctor              54966 non-null  object \n",
      " 7   Hospital            54966 non-null  object \n",
      " 8   Insurance Provider  54966 non-null  object \n",
      " 9   Billing Amount      54966 non-null  float64\n",
      " 10  Room Number         54966 non-null  int64  \n",
      " 11  Admission Type      54966 non-null  object \n",
      " 12  Discharge Date      54966 non-null  object \n",
      " 13  Medication          54966 non-null  object \n",
      " 14  Test Results        54966 non-null  object \n",
      "dtypes: float64(1), int64(2), object(12)\n",
      "memory usage: 6.7+ MB\n"
     ]
    }
   ],
   "source": [
    "## Getting the information on the dataframe\n",
    "data.info()"
   ]
  },
  {
   "cell_type": "code",
   "execution_count": 13,
   "id": "761d3f1a-a060-4a08-bdfe-01b742940a89",
   "metadata": {},
   "outputs": [
    {
     "data": {
      "text/html": [
       "<div>\n",
       "<style scoped>\n",
       "    .dataframe tbody tr th:only-of-type {\n",
       "        vertical-align: middle;\n",
       "    }\n",
       "\n",
       "    .dataframe tbody tr th {\n",
       "        vertical-align: top;\n",
       "    }\n",
       "\n",
       "    .dataframe thead th {\n",
       "        text-align: right;\n",
       "    }\n",
       "</style>\n",
       "<table border=\"1\" class=\"dataframe\">\n",
       "  <thead>\n",
       "    <tr style=\"text-align: right;\">\n",
       "      <th></th>\n",
       "      <th>Name</th>\n",
       "      <th>Age</th>\n",
       "      <th>Gender</th>\n",
       "      <th>Blood Type</th>\n",
       "      <th>Medical Condition</th>\n",
       "      <th>Date of Admission</th>\n",
       "      <th>Doctor</th>\n",
       "      <th>Hospital</th>\n",
       "      <th>Insurance Provider</th>\n",
       "      <th>Billing Amount</th>\n",
       "      <th>Room Number</th>\n",
       "      <th>Admission Type</th>\n",
       "      <th>Discharge Date</th>\n",
       "      <th>Medication</th>\n",
       "      <th>Test Results</th>\n",
       "    </tr>\n",
       "  </thead>\n",
       "  <tbody>\n",
       "    <tr>\n",
       "      <th>0</th>\n",
       "      <td>Bobby JacksOn</td>\n",
       "      <td>30</td>\n",
       "      <td>Male</td>\n",
       "      <td>B-</td>\n",
       "      <td>Cancer</td>\n",
       "      <td>2024-01-31</td>\n",
       "      <td>Matthew Smith</td>\n",
       "      <td>Sons and Miller</td>\n",
       "      <td>Blue Cross</td>\n",
       "      <td>18856.281306</td>\n",
       "      <td>328</td>\n",
       "      <td>Urgent</td>\n",
       "      <td>2024-02-02</td>\n",
       "      <td>Paracetamol</td>\n",
       "      <td>Normal</td>\n",
       "    </tr>\n",
       "    <tr>\n",
       "      <th>1</th>\n",
       "      <td>LesLie TErRy</td>\n",
       "      <td>62</td>\n",
       "      <td>Male</td>\n",
       "      <td>A+</td>\n",
       "      <td>Obesity</td>\n",
       "      <td>2019-08-20</td>\n",
       "      <td>Samantha Davies</td>\n",
       "      <td>Kim Inc</td>\n",
       "      <td>Medicare</td>\n",
       "      <td>33643.327287</td>\n",
       "      <td>265</td>\n",
       "      <td>Emergency</td>\n",
       "      <td>2019-08-26</td>\n",
       "      <td>Ibuprofen</td>\n",
       "      <td>Inconclusive</td>\n",
       "    </tr>\n",
       "    <tr>\n",
       "      <th>2</th>\n",
       "      <td>DaNnY sMitH</td>\n",
       "      <td>76</td>\n",
       "      <td>Female</td>\n",
       "      <td>A-</td>\n",
       "      <td>Obesity</td>\n",
       "      <td>2022-09-22</td>\n",
       "      <td>Tiffany Mitchell</td>\n",
       "      <td>Cook PLC</td>\n",
       "      <td>Aetna</td>\n",
       "      <td>27955.096079</td>\n",
       "      <td>205</td>\n",
       "      <td>Emergency</td>\n",
       "      <td>2022-10-07</td>\n",
       "      <td>Aspirin</td>\n",
       "      <td>Normal</td>\n",
       "    </tr>\n",
       "    <tr>\n",
       "      <th>3</th>\n",
       "      <td>andrEw waTtS</td>\n",
       "      <td>28</td>\n",
       "      <td>Female</td>\n",
       "      <td>O+</td>\n",
       "      <td>Diabetes</td>\n",
       "      <td>2020-11-18</td>\n",
       "      <td>Kevin Wells</td>\n",
       "      <td>Hernandez Rogers and Vang,</td>\n",
       "      <td>Medicare</td>\n",
       "      <td>37909.782410</td>\n",
       "      <td>450</td>\n",
       "      <td>Elective</td>\n",
       "      <td>2020-12-18</td>\n",
       "      <td>Ibuprofen</td>\n",
       "      <td>Abnormal</td>\n",
       "    </tr>\n",
       "    <tr>\n",
       "      <th>4</th>\n",
       "      <td>adrIENNE bEll</td>\n",
       "      <td>43</td>\n",
       "      <td>Female</td>\n",
       "      <td>AB+</td>\n",
       "      <td>Cancer</td>\n",
       "      <td>2022-09-19</td>\n",
       "      <td>Kathleen Hanna</td>\n",
       "      <td>White-White</td>\n",
       "      <td>Aetna</td>\n",
       "      <td>14238.317814</td>\n",
       "      <td>458</td>\n",
       "      <td>Urgent</td>\n",
       "      <td>2022-10-09</td>\n",
       "      <td>Penicillin</td>\n",
       "      <td>Abnormal</td>\n",
       "    </tr>\n",
       "  </tbody>\n",
       "</table>\n",
       "</div>"
      ],
      "text/plain": [
       "            Name  Age  Gender Blood Type Medical Condition Date of Admission  \\\n",
       "0  Bobby JacksOn   30    Male         B-            Cancer        2024-01-31   \n",
       "1   LesLie TErRy   62    Male         A+           Obesity        2019-08-20   \n",
       "2    DaNnY sMitH   76  Female         A-           Obesity        2022-09-22   \n",
       "3   andrEw waTtS   28  Female         O+          Diabetes        2020-11-18   \n",
       "4  adrIENNE bEll   43  Female        AB+            Cancer        2022-09-19   \n",
       "\n",
       "             Doctor                    Hospital Insurance Provider  \\\n",
       "0     Matthew Smith             Sons and Miller         Blue Cross   \n",
       "1   Samantha Davies                     Kim Inc           Medicare   \n",
       "2  Tiffany Mitchell                    Cook PLC              Aetna   \n",
       "3       Kevin Wells  Hernandez Rogers and Vang,           Medicare   \n",
       "4    Kathleen Hanna                 White-White              Aetna   \n",
       "\n",
       "   Billing Amount  Room Number Admission Type Discharge Date   Medication  \\\n",
       "0    18856.281306          328         Urgent     2024-02-02  Paracetamol   \n",
       "1    33643.327287          265      Emergency     2019-08-26    Ibuprofen   \n",
       "2    27955.096079          205      Emergency     2022-10-07      Aspirin   \n",
       "3    37909.782410          450       Elective     2020-12-18    Ibuprofen   \n",
       "4    14238.317814          458         Urgent     2022-10-09   Penicillin   \n",
       "\n",
       "   Test Results  \n",
       "0        Normal  \n",
       "1  Inconclusive  \n",
       "2        Normal  \n",
       "3      Abnormal  \n",
       "4      Abnormal  "
      ]
     },
     "execution_count": 13,
     "metadata": {},
     "output_type": "execute_result"
    }
   ],
   "source": [
    "## calling for the first five rows to have a view of what the dataframe looks like and its attributes\n",
    "data.head()"
   ]
  },
  {
   "cell_type": "markdown",
   "id": "864499bf-7706-4171-902c-0a7bfb3760fc",
   "metadata": {},
   "source": [
    "#### **Preprocessing Data**"
   ]
  },
  {
   "cell_type": "code",
   "execution_count": 15,
   "id": "ce9385d9-bbdc-4587-ad73-5308022db871",
   "metadata": {},
   "outputs": [],
   "source": [
    "## Formating the datatype to compatible format\n",
    "data['Date of Admission'] = pd.to_datetime(data['Date of Admission'])"
   ]
  },
  {
   "cell_type": "code",
   "execution_count": 16,
   "id": "4960120e-b3ba-4526-97eb-ac38e9e10048",
   "metadata": {},
   "outputs": [],
   "source": [
    "## Formating the datatype to compatible format\n",
    "data['Discharge Date'] = pd.to_datetime(data['Discharge Date'])"
   ]
  },
  {
   "cell_type": "code",
   "execution_count": 17,
   "id": "175664fe-7570-462c-91b1-7889b58b8c2f",
   "metadata": {},
   "outputs": [],
   "source": [
    "##create a new column to extract the duration spent at the hospital\n",
    "data['Duration']=(data['Discharge Date'] - data['Date of Admission']).dt.days"
   ]
  },
  {
   "cell_type": "code",
   "execution_count": 18,
   "id": "76dc4c19-9c2e-4cbd-bd86-ff86898b631d",
   "metadata": {},
   "outputs": [
    {
     "data": {
      "text/html": [
       "<div>\n",
       "<style scoped>\n",
       "    .dataframe tbody tr th:only-of-type {\n",
       "        vertical-align: middle;\n",
       "    }\n",
       "\n",
       "    .dataframe tbody tr th {\n",
       "        vertical-align: top;\n",
       "    }\n",
       "\n",
       "    .dataframe thead th {\n",
       "        text-align: right;\n",
       "    }\n",
       "</style>\n",
       "<table border=\"1\" class=\"dataframe\">\n",
       "  <thead>\n",
       "    <tr style=\"text-align: right;\">\n",
       "      <th></th>\n",
       "      <th>Age</th>\n",
       "      <th>Date of Admission</th>\n",
       "      <th>Billing Amount</th>\n",
       "      <th>Room Number</th>\n",
       "      <th>Discharge Date</th>\n",
       "      <th>Duration</th>\n",
       "    </tr>\n",
       "  </thead>\n",
       "  <tbody>\n",
       "    <tr>\n",
       "      <th>count</th>\n",
       "      <td>54966.000000</td>\n",
       "      <td>54966</td>\n",
       "      <td>54966.000000</td>\n",
       "      <td>54966.000000</td>\n",
       "      <td>54966</td>\n",
       "      <td>54966.000000</td>\n",
       "    </tr>\n",
       "    <tr>\n",
       "      <th>mean</th>\n",
       "      <td>51.535185</td>\n",
       "      <td>2021-11-01 17:35:29.505512448</td>\n",
       "      <td>25544.306284</td>\n",
       "      <td>301.124404</td>\n",
       "      <td>2021-11-17 05:34:28.202161408</td>\n",
       "      <td>15.499290</td>\n",
       "    </tr>\n",
       "    <tr>\n",
       "      <th>min</th>\n",
       "      <td>13.000000</td>\n",
       "      <td>2019-05-08 00:00:00</td>\n",
       "      <td>-2008.492140</td>\n",
       "      <td>101.000000</td>\n",
       "      <td>2019-05-09 00:00:00</td>\n",
       "      <td>1.000000</td>\n",
       "    </tr>\n",
       "    <tr>\n",
       "      <th>25%</th>\n",
       "      <td>35.000000</td>\n",
       "      <td>2020-07-28 00:00:00</td>\n",
       "      <td>13243.718641</td>\n",
       "      <td>202.000000</td>\n",
       "      <td>2020-08-13 00:00:00</td>\n",
       "      <td>8.000000</td>\n",
       "    </tr>\n",
       "    <tr>\n",
       "      <th>50%</th>\n",
       "      <td>52.000000</td>\n",
       "      <td>2021-11-02 00:00:00</td>\n",
       "      <td>25542.749145</td>\n",
       "      <td>302.000000</td>\n",
       "      <td>2021-11-18 00:00:00</td>\n",
       "      <td>15.000000</td>\n",
       "    </tr>\n",
       "    <tr>\n",
       "      <th>75%</th>\n",
       "      <td>68.000000</td>\n",
       "      <td>2023-02-03 00:00:00</td>\n",
       "      <td>37819.858159</td>\n",
       "      <td>401.000000</td>\n",
       "      <td>2023-02-19 00:00:00</td>\n",
       "      <td>23.000000</td>\n",
       "    </tr>\n",
       "    <tr>\n",
       "      <th>max</th>\n",
       "      <td>89.000000</td>\n",
       "      <td>2024-05-07 00:00:00</td>\n",
       "      <td>52764.276736</td>\n",
       "      <td>500.000000</td>\n",
       "      <td>2024-06-06 00:00:00</td>\n",
       "      <td>30.000000</td>\n",
       "    </tr>\n",
       "    <tr>\n",
       "      <th>std</th>\n",
       "      <td>19.605661</td>\n",
       "      <td>NaN</td>\n",
       "      <td>14208.409711</td>\n",
       "      <td>115.223143</td>\n",
       "      <td>NaN</td>\n",
       "      <td>8.661471</td>\n",
       "    </tr>\n",
       "  </tbody>\n",
       "</table>\n",
       "</div>"
      ],
      "text/plain": [
       "                Age              Date of Admission  Billing Amount  \\\n",
       "count  54966.000000                          54966    54966.000000   \n",
       "mean      51.535185  2021-11-01 17:35:29.505512448    25544.306284   \n",
       "min       13.000000            2019-05-08 00:00:00    -2008.492140   \n",
       "25%       35.000000            2020-07-28 00:00:00    13243.718641   \n",
       "50%       52.000000            2021-11-02 00:00:00    25542.749145   \n",
       "75%       68.000000            2023-02-03 00:00:00    37819.858159   \n",
       "max       89.000000            2024-05-07 00:00:00    52764.276736   \n",
       "std       19.605661                            NaN    14208.409711   \n",
       "\n",
       "        Room Number                 Discharge Date      Duration  \n",
       "count  54966.000000                          54966  54966.000000  \n",
       "mean     301.124404  2021-11-17 05:34:28.202161408     15.499290  \n",
       "min      101.000000            2019-05-09 00:00:00      1.000000  \n",
       "25%      202.000000            2020-08-13 00:00:00      8.000000  \n",
       "50%      302.000000            2021-11-18 00:00:00     15.000000  \n",
       "75%      401.000000            2023-02-19 00:00:00     23.000000  \n",
       "max      500.000000            2024-06-06 00:00:00     30.000000  \n",
       "std      115.223143                            NaN      8.661471  "
      ]
     },
     "execution_count": 18,
     "metadata": {},
     "output_type": "execute_result"
    }
   ],
   "source": [
    "## Statistical description of the data frame\n",
    "data.describe()"
   ]
  },
  {
   "cell_type": "markdown",
   "id": "24ffd34e-7052-47cf-979e-26f6df968a78",
   "metadata": {},
   "source": [
    "### **EXPLORATORY DATA ANALYSIS** \n",
    "\n"
   ]
  },
  {
   "cell_type": "code",
   "execution_count": 20,
   "id": "068541a7-9b7b-4041-9449-70255b2cf936",
   "metadata": {},
   "outputs": [],
   "source": [
    "## Importing libraries for Exploratory Analysis and Visualizations\n",
    "import numpy as np\n",
    "import matplotlib.pyplot as plt\n",
    "import seaborn as sns"
   ]
  },
  {
   "cell_type": "code",
   "execution_count": 21,
   "id": "4374729a-46fa-4c3e-b6f8-3948732a5bc9",
   "metadata": {},
   "outputs": [
    {
     "data": {
      "text/plain": [
       "Medical Condition\n",
       "Arthritis       9218\n",
       "Diabetes        9216\n",
       "Hypertension    9151\n",
       "Obesity         9146\n",
       "Cancer          9140\n",
       "Asthma          9095\n",
       "Name: count, dtype: int64"
      ]
     },
     "execution_count": 21,
     "metadata": {},
     "output_type": "execute_result"
    }
   ],
   "source": [
    "## EDA 1\n",
    "## Analysing for the most common diagnosis by Count\n",
    "Diagnosis_Count= data['Medical Condition'].value_counts()\n",
    "Diagnosis_Count"
   ]
  },
  {
   "cell_type": "markdown",
   "id": "cbcbc829-0a92-48be-b7eb-b5ee9283d492",
   "metadata": {},
   "source": [
    "**Insights from EDA 1: Arthritis is the most common medical condition with 9218, followed by Diabetes with 9216, and \n",
    "Hypertension 9151. The number of medical conditions is close to one another with everything ranging from 9095 to 9218**   "
   ]
  },
  {
   "cell_type": "code",
   "execution_count": 23,
   "id": "88886bd8-354a-49ed-bed4-b8dce2308c92",
   "metadata": {},
   "outputs": [
    {
     "data": {
      "image/png": "[encoded data removed]",
      "text/plain": [
       "<Figure size 1200x600 with 1 Axes>"
      ]
     },
     "metadata": {},
     "output_type": "display_data"
    }
   ],
   "source": [
    "## plotting visual of the most common diagnosis\n",
    "plt.figure(figsize=(12,6))\n",
    "Diagnosis_Count.plot(kind='bar', color='skyblue')\n",
    "plt.title('Diagnosis Count Frequency') \n",
    "plt.xlabel('Medical Condition')\n",
    "plt.ylabel('Frequency')\n",
    "plt.tight_layout ()\n",
    "plt.show ()"
   ]
  },
  {
   "cell_type": "code",
   "execution_count": 24,
   "id": "73eff507-32b1-41ac-ba60-99c67cb06a77",
   "metadata": {},
   "outputs": [
    {
     "data": {
      "text/plain": [
       "Medical Condition  Hospital                   \n",
       "Arthritis          Smith PLC                      12\n",
       "                   Smith LLC                      11\n",
       "                   Inc Smith                       9\n",
       "                   Ltd Smith                       9\n",
       "                   Group Johnson                   8\n",
       "                                                  ..\n",
       "Obesity            and Young, Dorsey Hill          1\n",
       "                   and Young, Spencer Byrd         1\n",
       "                   and Zhang Brooks, Hamilton      1\n",
       "                   and Zhang Underwood, Martin     1\n",
       "                   and Zimmerman Sons              1\n",
       "Name: count, Length: 46184, dtype: int64"
      ]
     },
     "execution_count": 24,
     "metadata": {},
     "output_type": "execute_result"
    }
   ],
   "source": [
    "##EDA 2\n",
    "## Analysing for Diagnosis by region using Hospital to stand in as region\n",
    "Diagnosis_by_region= data.groupby('Medical Condition')['Hospital'].value_counts()\n",
    "Diagnosis_by_region"
   ]
  },
  {
   "cell_type": "markdown",
   "id": "240265ed-c0d5-4789-949f-8a8ee230bd65",
   "metadata": {},
   "source": [
    "**EDA 2 Insights\n",
    "The Top 5 hospitals are by medical conditions and region with hospitals standing in as region \n",
    "Johnson PLC recorded 7 Arthritis, 9 Asthma,  7 cancer, 7 Diabetes, 6 hypertension and 2 obesity\n",
    "Smith LLC with 8 Arthritis 4 Asthma 5 cancer 11 Diabetes 11 hypertension  and 5 obesity 11\n",
    "Ltd Smith with Arthritis 9, 3 Asthma 6 cancer 4 Diabetes 6 hypertension 11 obesity\n",
    "Smith Group 6 Arthritis 2 Asthma 10 cancer 4 Diabetes 2 hypertension 10 obesity\n",
    "Smith Ltd with 7 Arthritis 5 Asthma 6 cancer 7 Diabetes 8 hypertension 7 obesity**\n"
   ]
  },
  {
   "cell_type": "code",
   "execution_count": 26,
   "id": "796889b2-f846-4992-9614-f825b5d3119f",
   "metadata": {},
   "outputs": [
    {
     "data": {
      "image/png": "[encoded data removed]",
      "text/plain": [
       "<Figure size 1200x600 with 1 Axes>"
      ]
     },
     "metadata": {},
     "output_type": "display_data"
    }
   ],
   "source": [
    "## plotting visual of Diagnosis By Region\n",
    "plt.figure(figsize=(12,6))\n",
    "Diagnosis_by_region[:41].plot(kind='bar', stacked=True, colormap='tab20')\n",
    "plt.title('Diagnosis By Region') \n",
    "plt.xlabel('Region/Hospital')\n",
    "plt.ylabel('Count Of Diagnosis')\n",
    "plt.legend(title='Medical Condition', bbox_to_anchor=(1.05, 1), loc='upper left')\n",
    "plt.tight_layout()\n",
    "plt.show()"
   ]
  },
  {
   "cell_type": "code",
   "execution_count": 27,
   "id": "eb07b5fe-5006-4ffd-8f96-b5babcb5d172",
   "metadata": {},
   "outputs": [
    {
     "data": {
      "text/plain": [
       "Test Results  Medication \n",
       "Abnormal      Ibuprofen      3711\n",
       "              Aspirin        3700\n",
       "              Paracetamol    3695\n",
       "              Lipitor        3670\n",
       "              Penicillin     3661\n",
       "Inconclusive  Lipitor        3720\n",
       "              Paracetamol    3646\n",
       "              Penicillin     3631\n",
       "              Ibuprofen      3613\n",
       "              Aspirin        3588\n",
       "Normal        Ibuprofen      3699\n",
       "              Aspirin        3696\n",
       "              Penicillin     3664\n",
       "              Lipitor        3648\n",
       "              Paracetamol    3624\n",
       "Name: count, dtype: int64"
      ]
     },
     "execution_count": 27,
     "metadata": {},
     "output_type": "execute_result"
    }
   ],
   "source": [
    "## EDA 3\n",
    "## SUCCESS RATE OF THE TREATMENT PLANS\n",
    "Treatment_plans_success_rate= data.groupby('Test Results')['Medication'].value_counts()\n",
    "Treatment_plans_success_rate"
   ]
  },
  {
   "cell_type": "markdown",
   "id": "1deab51c-2c5a-457e-8bc2-8ba88a40174b",
   "metadata": {},
   "source": [
    "**EDA 3 Insight\n",
    "The normal, Abnormal, and Inconclusive report of each medication was recorded. The total Normal test result recorded was\n",
    "18,517, the total abnormal test results was 18,267, and the total inclusive test result was 18,357. There is no large difference recorded.** \n"
   ]
  },
  {
   "cell_type": "code",
   "execution_count": 29,
   "id": "ee31135d-8088-4b58-94df-6b57a67a723c",
   "metadata": {},
   "outputs": [
    {
     "data": {
      "text/html": [
       "<div>\n",
       "<style scoped>\n",
       "    .dataframe tbody tr th:only-of-type {\n",
       "        vertical-align: middle;\n",
       "    }\n",
       "\n",
       "    .dataframe tbody tr th {\n",
       "        vertical-align: top;\n",
       "    }\n",
       "\n",
       "    .dataframe thead th {\n",
       "        text-align: right;\n",
       "    }\n",
       "</style>\n",
       "<table border=\"1\" class=\"dataframe\">\n",
       "  <thead>\n",
       "    <tr style=\"text-align: right;\">\n",
       "      <th>Medication</th>\n",
       "      <th>Aspirin</th>\n",
       "      <th>Ibuprofen</th>\n",
       "      <th>Lipitor</th>\n",
       "      <th>Paracetamol</th>\n",
       "      <th>Penicillin</th>\n",
       "    </tr>\n",
       "    <tr>\n",
       "      <th>Test Results</th>\n",
       "      <th></th>\n",
       "      <th></th>\n",
       "      <th></th>\n",
       "      <th></th>\n",
       "      <th></th>\n",
       "    </tr>\n",
       "  </thead>\n",
       "  <tbody>\n",
       "    <tr>\n",
       "      <th>Abnormal</th>\n",
       "      <td>3700</td>\n",
       "      <td>3711</td>\n",
       "      <td>3670</td>\n",
       "      <td>3695</td>\n",
       "      <td>3661</td>\n",
       "    </tr>\n",
       "    <tr>\n",
       "      <th>Inconclusive</th>\n",
       "      <td>3588</td>\n",
       "      <td>3613</td>\n",
       "      <td>3720</td>\n",
       "      <td>3646</td>\n",
       "      <td>3631</td>\n",
       "    </tr>\n",
       "    <tr>\n",
       "      <th>Normal</th>\n",
       "      <td>3696</td>\n",
       "      <td>3699</td>\n",
       "      <td>3648</td>\n",
       "      <td>3624</td>\n",
       "      <td>3664</td>\n",
       "    </tr>\n",
       "  </tbody>\n",
       "</table>\n",
       "</div>"
      ],
      "text/plain": [
       "Medication    Aspirin  Ibuprofen  Lipitor  Paracetamol  Penicillin\n",
       "Test Results                                                      \n",
       "Abnormal         3700       3711     3670         3695        3661\n",
       "Inconclusive     3588       3613     3720         3646        3631\n",
       "Normal           3696       3699     3648         3624        3664"
      ]
     },
     "execution_count": 29,
     "metadata": {},
     "output_type": "execute_result"
    }
   ],
   "source": [
    "Treatment_plans_success_rate2 = data.groupby('Test Results')['Medication'].value_counts().unstack()\n",
    "Treatment_plans_success_rate2"
   ]
  },
  {
   "cell_type": "code",
   "execution_count": 30,
   "id": "78e419ab-5539-4a33-b37f-2cd6c25b3013",
   "metadata": {},
   "outputs": [
    {
     "data": {
      "text/plain": [
       "<Figure size 1200x600 with 0 Axes>"
      ]
     },
     "metadata": {},
     "output_type": "display_data"
    },
    {
     "data": {
      "image/png": "[encoded data removed]",
      "text/plain": [
       "<Figure size 640x480 with 1 Axes>"
      ]
     },
     "metadata": {},
     "output_type": "display_data"
    }
   ],
   "source": [
    "plt.figure(figsize=(12,6))\n",
    "Treatment_plans_success_rate2.plot(kind='bar', stacked=True, colormap='tab20')\n",
    "plt.title('Success Rate By Treatment Plan') \n",
    "plt.xlabel('Test Results')\n",
    "plt.ylabel('Medical/Treatment Plans')\n",
    "plt.legend(title='Medication', bbox_to_anchor=(1.05, 1), loc='upper left')\n",
    "plt.tight_layout()\n",
    "plt.show()"
   ]
  },
  {
   "cell_type": "code",
   "execution_count": 31,
   "id": "ba41a53e-0d03-4762-b0a0-236c2089ffb7",
   "metadata": {},
   "outputs": [
    {
     "data": {
      "text/html": [
       "<div>\n",
       "<style scoped>\n",
       "    .dataframe tbody tr th:only-of-type {\n",
       "        vertical-align: middle;\n",
       "    }\n",
       "\n",
       "    .dataframe tbody tr th {\n",
       "        vertical-align: top;\n",
       "    }\n",
       "\n",
       "    .dataframe thead th {\n",
       "        text-align: right;\n",
       "    }\n",
       "</style>\n",
       "<table border=\"1\" class=\"dataframe\">\n",
       "  <thead>\n",
       "    <tr style=\"text-align: right;\">\n",
       "      <th>Age</th>\n",
       "      <th>13</th>\n",
       "      <th>14</th>\n",
       "      <th>15</th>\n",
       "      <th>16</th>\n",
       "      <th>17</th>\n",
       "      <th>18</th>\n",
       "      <th>19</th>\n",
       "      <th>20</th>\n",
       "      <th>21</th>\n",
       "      <th>22</th>\n",
       "      <th>...</th>\n",
       "      <th>80</th>\n",
       "      <th>81</th>\n",
       "      <th>82</th>\n",
       "      <th>83</th>\n",
       "      <th>84</th>\n",
       "      <th>85</th>\n",
       "      <th>86</th>\n",
       "      <th>87</th>\n",
       "      <th>88</th>\n",
       "      <th>89</th>\n",
       "    </tr>\n",
       "    <tr>\n",
       "      <th>Medical Condition</th>\n",
       "      <th></th>\n",
       "      <th></th>\n",
       "      <th></th>\n",
       "      <th></th>\n",
       "      <th></th>\n",
       "      <th></th>\n",
       "      <th></th>\n",
       "      <th></th>\n",
       "      <th></th>\n",
       "      <th></th>\n",
       "      <th></th>\n",
       "      <th></th>\n",
       "      <th></th>\n",
       "      <th></th>\n",
       "      <th></th>\n",
       "      <th></th>\n",
       "      <th></th>\n",
       "      <th></th>\n",
       "      <th></th>\n",
       "      <th></th>\n",
       "      <th></th>\n",
       "    </tr>\n",
       "  </thead>\n",
       "  <tbody>\n",
       "    <tr>\n",
       "      <th>Arthritis</th>\n",
       "      <td>2.0</td>\n",
       "      <td>4.0</td>\n",
       "      <td>2.0</td>\n",
       "      <td>3.0</td>\n",
       "      <td>10.0</td>\n",
       "      <td>128.0</td>\n",
       "      <td>147.0</td>\n",
       "      <td>130.0</td>\n",
       "      <td>128.0</td>\n",
       "      <td>133.0</td>\n",
       "      <td>...</td>\n",
       "      <td>142.0</td>\n",
       "      <td>153.0</td>\n",
       "      <td>143.0</td>\n",
       "      <td>112.0</td>\n",
       "      <td>117.0</td>\n",
       "      <td>135.0</td>\n",
       "      <td>12.0</td>\n",
       "      <td>3.0</td>\n",
       "      <td>5.0</td>\n",
       "      <td>2.0</td>\n",
       "    </tr>\n",
       "    <tr>\n",
       "      <th>Asthma</th>\n",
       "      <td>3.0</td>\n",
       "      <td>3.0</td>\n",
       "      <td>8.0</td>\n",
       "      <td>3.0</td>\n",
       "      <td>3.0</td>\n",
       "      <td>130.0</td>\n",
       "      <td>126.0</td>\n",
       "      <td>126.0</td>\n",
       "      <td>130.0</td>\n",
       "      <td>134.0</td>\n",
       "      <td>...</td>\n",
       "      <td>148.0</td>\n",
       "      <td>141.0</td>\n",
       "      <td>140.0</td>\n",
       "      <td>138.0</td>\n",
       "      <td>117.0</td>\n",
       "      <td>128.0</td>\n",
       "      <td>4.0</td>\n",
       "      <td>3.0</td>\n",
       "      <td>4.0</td>\n",
       "      <td>1.0</td>\n",
       "    </tr>\n",
       "    <tr>\n",
       "      <th>Cancer</th>\n",
       "      <td>2.0</td>\n",
       "      <td>2.0</td>\n",
       "      <td>5.0</td>\n",
       "      <td>5.0</td>\n",
       "      <td>7.0</td>\n",
       "      <td>125.0</td>\n",
       "      <td>136.0</td>\n",
       "      <td>134.0</td>\n",
       "      <td>133.0</td>\n",
       "      <td>126.0</td>\n",
       "      <td>...</td>\n",
       "      <td>151.0</td>\n",
       "      <td>145.0</td>\n",
       "      <td>125.0</td>\n",
       "      <td>132.0</td>\n",
       "      <td>139.0</td>\n",
       "      <td>119.0</td>\n",
       "      <td>3.0</td>\n",
       "      <td>3.0</td>\n",
       "      <td>3.0</td>\n",
       "      <td>1.0</td>\n",
       "    </tr>\n",
       "    <tr>\n",
       "      <th>Diabetes</th>\n",
       "      <td>NaN</td>\n",
       "      <td>2.0</td>\n",
       "      <td>6.0</td>\n",
       "      <td>4.0</td>\n",
       "      <td>4.0</td>\n",
       "      <td>124.0</td>\n",
       "      <td>130.0</td>\n",
       "      <td>125.0</td>\n",
       "      <td>130.0</td>\n",
       "      <td>135.0</td>\n",
       "      <td>...</td>\n",
       "      <td>143.0</td>\n",
       "      <td>131.0</td>\n",
       "      <td>123.0</td>\n",
       "      <td>133.0</td>\n",
       "      <td>121.0</td>\n",
       "      <td>108.0</td>\n",
       "      <td>5.0</td>\n",
       "      <td>10.0</td>\n",
       "      <td>4.0</td>\n",
       "      <td>1.0</td>\n",
       "    </tr>\n",
       "    <tr>\n",
       "      <th>Hypertension</th>\n",
       "      <td>1.0</td>\n",
       "      <td>1.0</td>\n",
       "      <td>2.0</td>\n",
       "      <td>4.0</td>\n",
       "      <td>3.0</td>\n",
       "      <td>132.0</td>\n",
       "      <td>134.0</td>\n",
       "      <td>108.0</td>\n",
       "      <td>164.0</td>\n",
       "      <td>133.0</td>\n",
       "      <td>...</td>\n",
       "      <td>137.0</td>\n",
       "      <td>115.0</td>\n",
       "      <td>134.0</td>\n",
       "      <td>131.0</td>\n",
       "      <td>132.0</td>\n",
       "      <td>133.0</td>\n",
       "      <td>10.0</td>\n",
       "      <td>6.0</td>\n",
       "      <td>7.0</td>\n",
       "      <td>2.0</td>\n",
       "    </tr>\n",
       "    <tr>\n",
       "      <th>Obesity</th>\n",
       "      <td>6.0</td>\n",
       "      <td>6.0</td>\n",
       "      <td>5.0</td>\n",
       "      <td>5.0</td>\n",
       "      <td>5.0</td>\n",
       "      <td>131.0</td>\n",
       "      <td>118.0</td>\n",
       "      <td>121.0</td>\n",
       "      <td>132.0</td>\n",
       "      <td>149.0</td>\n",
       "      <td>...</td>\n",
       "      <td>134.0</td>\n",
       "      <td>123.0</td>\n",
       "      <td>126.0</td>\n",
       "      <td>139.0</td>\n",
       "      <td>146.0</td>\n",
       "      <td>111.0</td>\n",
       "      <td>7.0</td>\n",
       "      <td>6.0</td>\n",
       "      <td>2.0</td>\n",
       "      <td>1.0</td>\n",
       "    </tr>\n",
       "  </tbody>\n",
       "</table>\n",
       "<p>6 rows × 77 columns</p>\n",
       "</div>"
      ],
      "text/plain": [
       "Age                 13   14   15   16    17     18     19     20     21  \\\n",
       "Medical Condition                                                         \n",
       "Arthritis          2.0  4.0  2.0  3.0  10.0  128.0  147.0  130.0  128.0   \n",
       "Asthma             3.0  3.0  8.0  3.0   3.0  130.0  126.0  126.0  130.0   \n",
       "Cancer             2.0  2.0  5.0  5.0   7.0  125.0  136.0  134.0  133.0   \n",
       "Diabetes           NaN  2.0  6.0  4.0   4.0  124.0  130.0  125.0  130.0   \n",
       "Hypertension       1.0  1.0  2.0  4.0   3.0  132.0  134.0  108.0  164.0   \n",
       "Obesity            6.0  6.0  5.0  5.0   5.0  131.0  118.0  121.0  132.0   \n",
       "\n",
       "Age                   22  ...     80     81     82     83     84     85    86  \\\n",
       "Medical Condition         ...                                                   \n",
       "Arthritis          133.0  ...  142.0  153.0  143.0  112.0  117.0  135.0  12.0   \n",
       "Asthma             134.0  ...  148.0  141.0  140.0  138.0  117.0  128.0   4.0   \n",
       "Cancer             126.0  ...  151.0  145.0  125.0  132.0  139.0  119.0   3.0   \n",
       "Diabetes           135.0  ...  143.0  131.0  123.0  133.0  121.0  108.0   5.0   \n",
       "Hypertension       133.0  ...  137.0  115.0  134.0  131.0  132.0  133.0  10.0   \n",
       "Obesity            149.0  ...  134.0  123.0  126.0  139.0  146.0  111.0   7.0   \n",
       "\n",
       "Age                  87   88   89  \n",
       "Medical Condition                  \n",
       "Arthritis           3.0  5.0  2.0  \n",
       "Asthma              3.0  4.0  1.0  \n",
       "Cancer              3.0  3.0  1.0  \n",
       "Diabetes           10.0  4.0  1.0  \n",
       "Hypertension        6.0  7.0  2.0  \n",
       "Obesity             6.0  2.0  1.0  \n",
       "\n",
       "[6 rows x 77 columns]"
      ]
     },
     "execution_count": 31,
     "metadata": {},
     "output_type": "execute_result"
    }
   ],
   "source": [
    "## EDA 4\n",
    "## Medical Condition by Age\n",
    "Medical_Condition_By_Age = data.groupby('Medical Condition')['Age'].value_counts().unstack()\n",
    "Medical_Condition_By_Age"
   ]
  },
  {
   "cell_type": "markdown",
   "id": "315635cf-37bb-45af-a5a0-27e28f450068",
   "metadata": {},
   "source": [
    "**EDA 4 Insight\n",
    "The medical condition table is based on the count of medical conditions by patient's age. The first row shows 2 arthritis recorded for age 13, 4 for age 14, 2 for age 15, 3 for age 16, and so on. it is the distribution of medical conditions and medical condition count by age.** "
   ]
  },
  {
   "cell_type": "code",
   "execution_count": 33,
   "id": "42da42e3-bda0-44b2-b5d9-208aacd5abcf",
   "metadata": {},
   "outputs": [
    {
     "data": {
      "text/plain": [
       "<Figure size 2000x1000 with 0 Axes>"
      ]
     },
     "metadata": {},
     "output_type": "display_data"
    },
    {
     "data": {
      "image/png": "[encoded data removed]",
      "text/plain": [
       "<Figure size 640x480 with 1 Axes>"
      ]
     },
     "metadata": {},
     "output_type": "display_data"
    }
   ],
   "source": [
    "## creating visual for Medical Condition by Age\n",
    "plt.figure(figsize=(20,10))\n",
    "Medical_Condition_By_Age[:40].plot(kind='bar', stacked=True, colormap='tab20')\n",
    "plt.title('Medical Condition By Age') \n",
    "plt.xlabel('Age')\n",
    "plt.ylabel('Medical Condition')\n",
    "plt.legend(title='Medical Condition', bbox_to_anchor=(1, 1), loc='upper left')\n",
    "plt.show()"
   ]
  },
  {
   "cell_type": "code",
   "execution_count": 34,
   "id": "f604b9df-5ab3-4bb3-b376-4d8f80c9d0b0",
   "metadata": {},
   "outputs": [
    {
     "data": {
      "text/html": [
       "<div>\n",
       "<style scoped>\n",
       "    .dataframe tbody tr th:only-of-type {\n",
       "        vertical-align: middle;\n",
       "    }\n",
       "\n",
       "    .dataframe tbody tr th {\n",
       "        vertical-align: top;\n",
       "    }\n",
       "\n",
       "    .dataframe thead th {\n",
       "        text-align: right;\n",
       "    }\n",
       "</style>\n",
       "<table border=\"1\" class=\"dataframe\">\n",
       "  <thead>\n",
       "    <tr style=\"text-align: right;\">\n",
       "      <th>Gender</th>\n",
       "      <th>Female</th>\n",
       "      <th>Male</th>\n",
       "    </tr>\n",
       "    <tr>\n",
       "      <th>Medical Condition</th>\n",
       "      <th></th>\n",
       "      <th></th>\n",
       "    </tr>\n",
       "  </thead>\n",
       "  <tbody>\n",
       "    <tr>\n",
       "      <th>Arthritis</th>\n",
       "      <td>4642</td>\n",
       "      <td>4576</td>\n",
       "    </tr>\n",
       "    <tr>\n",
       "      <th>Asthma</th>\n",
       "      <td>4511</td>\n",
       "      <td>4584</td>\n",
       "    </tr>\n",
       "    <tr>\n",
       "      <th>Cancer</th>\n",
       "      <td>4566</td>\n",
       "      <td>4574</td>\n",
       "    </tr>\n",
       "    <tr>\n",
       "      <th>Diabetes</th>\n",
       "      <td>4609</td>\n",
       "      <td>4607</td>\n",
       "    </tr>\n",
       "    <tr>\n",
       "      <th>Hypertension</th>\n",
       "      <td>4569</td>\n",
       "      <td>4582</td>\n",
       "    </tr>\n",
       "    <tr>\n",
       "      <th>Obesity</th>\n",
       "      <td>4573</td>\n",
       "      <td>4573</td>\n",
       "    </tr>\n",
       "  </tbody>\n",
       "</table>\n",
       "</div>"
      ],
      "text/plain": [
       "Gender             Female  Male\n",
       "Medical Condition              \n",
       "Arthritis            4642  4576\n",
       "Asthma               4511  4584\n",
       "Cancer               4566  4574\n",
       "Diabetes             4609  4607\n",
       "Hypertension         4569  4582\n",
       "Obesity              4573  4573"
      ]
     },
     "execution_count": 34,
     "metadata": {},
     "output_type": "execute_result"
    }
   ],
   "source": [
    "## EDA 5\n",
    "## Medical Condition By Gender\n",
    "Medical_Condition_By_Gender = data.groupby('Medical Condition')['Gender'].value_counts().unstack()\n",
    "Medical_Condition_By_Gender"
   ]
  },
  {
   "cell_type": "markdown",
   "id": "4f3df965-6368-423f-ac29-b794f1507a97",
   "metadata": {},
   "source": [
    "**EDA 5 Insight\n",
    "This table shows each medical condition by gender. arthritis for females is 4642 and 4576 for males\n",
    "Asthma is 4522 for females and 4584 for males. In total female patients were 27,726 and males 27,774.**"
   ]
  },
  {
   "cell_type": "code",
   "execution_count": 36,
   "id": "62f4e643-a8a2-41f8-b653-7a8fc476e4a6",
   "metadata": {},
   "outputs": [
    {
     "data": {
      "text/plain": [
       "<Figure size 1200x600 with 0 Axes>"
      ]
     },
     "metadata": {},
     "output_type": "display_data"
    },
    {
     "data": {
      "image/png": "[encoded data removed]",
      "text/plain": [
       "<Figure size 640x480 with 1 Axes>"
      ]
     },
     "metadata": {},
     "output_type": "display_data"
    }
   ],
   "source": [
    "plt.figure(figsize=(12,6))\n",
    "Medical_Condition_By_Gender.plot(kind='bar', stacked=True, colormap='tab20')\n",
    "plt.title('Medical Condition By Gender') \n",
    "plt.xlabel('Gender')\n",
    "plt.ylabel('Medical Condition')\n",
    "plt.legend(title='Medical Condition', bbox_to_anchor=(1.05, 1), loc='upper left')\n",
    "plt.tight_layout()\n",
    "plt.show()"
   ]
  },
  {
   "cell_type": "markdown",
   "id": "659da6cc-8194-432d-921e-714978c36981",
   "metadata": {},
   "source": [
    "### **PREDICTIVE ANALYSIS**"
   ]
  },
  {
   "cell_type": "code",
   "execution_count": 38,
   "id": "fb508162-92ea-4a95-81ef-2f065a8feecb",
   "metadata": {},
   "outputs": [],
   "source": [
    "## Importing libraries to perform predictive analysis\n",
    "from sklearn.preprocessing import StandardScaler, LabelEncoder\n",
    "from sklearn.model_selection import train_test_split\n",
    "from sklearn.linear_model import LinearRegression\n",
    "from sklearn.metrics import mean_squared_error, r2_score"
   ]
  },
  {
   "cell_type": "code",
   "execution_count": 39,
   "id": "c539c817-ff33-4ca5-a3b5-e4829348436f",
   "metadata": {},
   "outputs": [
    {
     "data": {
      "text/plain": [
       "Index(['Name', 'Age', 'Gender', 'Blood Type', 'Medical Condition',\n",
       "       'Date of Admission', 'Doctor', 'Hospital', 'Insurance Provider',\n",
       "       'Billing Amount', 'Room Number', 'Admission Type', 'Discharge Date',\n",
       "       'Medication', 'Test Results', 'Duration'],\n",
       "      dtype='object')"
      ]
     },
     "execution_count": 39,
     "metadata": {},
     "output_type": "execute_result"
    }
   ],
   "source": [
    "## Checking columns to work with\n",
    "data.columns"
   ]
  },
  {
   "cell_type": "code",
   "execution_count": 40,
   "id": "09e9d606-3660-4b0a-80f0-5d9ead6de6fe",
   "metadata": {},
   "outputs": [
    {
     "name": "stdout",
     "output_type": "stream",
     "text": [
      "<class 'pandas.core.frame.DataFrame'>\n",
      "Index: 54966 entries, 0 to 55499\n",
      "Data columns (total 16 columns):\n",
      " #   Column              Non-Null Count  Dtype         \n",
      "---  ------              --------------  -----         \n",
      " 0   Name                54966 non-null  object        \n",
      " 1   Age                 54966 non-null  int64         \n",
      " 2   Gender              54966 non-null  object        \n",
      " 3   Blood Type          54966 non-null  object        \n",
      " 4   Medical Condition   54966 non-null  object        \n",
      " 5   Date of Admission   54966 non-null  datetime64[ns]\n",
      " 6   Doctor              54966 non-null  object        \n",
      " 7   Hospital            54966 non-null  object        \n",
      " 8   Insurance Provider  54966 non-null  object        \n",
      " 9   Billing Amount      54966 non-null  float64       \n",
      " 10  Room Number         54966 non-null  int64         \n",
      " 11  Admission Type      54966 non-null  object        \n",
      " 12  Discharge Date      54966 non-null  datetime64[ns]\n",
      " 13  Medication          54966 non-null  object        \n",
      " 14  Test Results        54966 non-null  object        \n",
      " 15  Duration            54966 non-null  int64         \n",
      "dtypes: datetime64[ns](2), float64(1), int64(3), object(10)\n",
      "memory usage: 7.1+ MB\n"
     ]
    }
   ],
   "source": [
    "## checking for data frame info\n",
    "data.info()"
   ]
  },
  {
   "cell_type": "code",
   "execution_count": 41,
   "id": "35fc60df-b513-4902-867b-e0041b9a1342",
   "metadata": {},
   "outputs": [
    {
     "data": {
      "text/html": [
       "<div>\n",
       "<style scoped>\n",
       "    .dataframe tbody tr th:only-of-type {\n",
       "        vertical-align: middle;\n",
       "    }\n",
       "\n",
       "    .dataframe tbody tr th {\n",
       "        vertical-align: top;\n",
       "    }\n",
       "\n",
       "    .dataframe thead th {\n",
       "        text-align: right;\n",
       "    }\n",
       "</style>\n",
       "<table border=\"1\" class=\"dataframe\">\n",
       "  <thead>\n",
       "    <tr style=\"text-align: right;\">\n",
       "      <th></th>\n",
       "      <th>Age</th>\n",
       "      <th>Gender</th>\n",
       "      <th>Blood Type</th>\n",
       "      <th>Medical Condition</th>\n",
       "      <th>Insurance Provider</th>\n",
       "      <th>Room Number</th>\n",
       "      <th>Admission Type</th>\n",
       "      <th>Medication</th>\n",
       "      <th>Test Results</th>\n",
       "      <th>Duration</th>\n",
       "    </tr>\n",
       "  </thead>\n",
       "  <tbody>\n",
       "    <tr>\n",
       "      <th>0</th>\n",
       "      <td>30</td>\n",
       "      <td>Male</td>\n",
       "      <td>B-</td>\n",
       "      <td>Cancer</td>\n",
       "      <td>Blue Cross</td>\n",
       "      <td>328</td>\n",
       "      <td>Urgent</td>\n",
       "      <td>Paracetamol</td>\n",
       "      <td>Normal</td>\n",
       "      <td>2</td>\n",
       "    </tr>\n",
       "    <tr>\n",
       "      <th>1</th>\n",
       "      <td>62</td>\n",
       "      <td>Male</td>\n",
       "      <td>A+</td>\n",
       "      <td>Obesity</td>\n",
       "      <td>Medicare</td>\n",
       "      <td>265</td>\n",
       "      <td>Emergency</td>\n",
       "      <td>Ibuprofen</td>\n",
       "      <td>Inconclusive</td>\n",
       "      <td>6</td>\n",
       "    </tr>\n",
       "    <tr>\n",
       "      <th>2</th>\n",
       "      <td>76</td>\n",
       "      <td>Female</td>\n",
       "      <td>A-</td>\n",
       "      <td>Obesity</td>\n",
       "      <td>Aetna</td>\n",
       "      <td>205</td>\n",
       "      <td>Emergency</td>\n",
       "      <td>Aspirin</td>\n",
       "      <td>Normal</td>\n",
       "      <td>15</td>\n",
       "    </tr>\n",
       "    <tr>\n",
       "      <th>3</th>\n",
       "      <td>28</td>\n",
       "      <td>Female</td>\n",
       "      <td>O+</td>\n",
       "      <td>Diabetes</td>\n",
       "      <td>Medicare</td>\n",
       "      <td>450</td>\n",
       "      <td>Elective</td>\n",
       "      <td>Ibuprofen</td>\n",
       "      <td>Abnormal</td>\n",
       "      <td>30</td>\n",
       "    </tr>\n",
       "    <tr>\n",
       "      <th>4</th>\n",
       "      <td>43</td>\n",
       "      <td>Female</td>\n",
       "      <td>AB+</td>\n",
       "      <td>Cancer</td>\n",
       "      <td>Aetna</td>\n",
       "      <td>458</td>\n",
       "      <td>Urgent</td>\n",
       "      <td>Penicillin</td>\n",
       "      <td>Abnormal</td>\n",
       "      <td>20</td>\n",
       "    </tr>\n",
       "  </tbody>\n",
       "</table>\n",
       "</div>"
      ],
      "text/plain": [
       "   Age  Gender Blood Type Medical Condition Insurance Provider  Room Number  \\\n",
       "0   30    Male         B-            Cancer         Blue Cross          328   \n",
       "1   62    Male         A+           Obesity           Medicare          265   \n",
       "2   76  Female         A-           Obesity              Aetna          205   \n",
       "3   28  Female         O+          Diabetes           Medicare          450   \n",
       "4   43  Female        AB+            Cancer              Aetna          458   \n",
       "\n",
       "  Admission Type   Medication  Test Results  Duration  \n",
       "0         Urgent  Paracetamol        Normal         2  \n",
       "1      Emergency    Ibuprofen  Inconclusive         6  \n",
       "2      Emergency      Aspirin        Normal        15  \n",
       "3       Elective    Ibuprofen      Abnormal        30  \n",
       "4         Urgent   Penicillin      Abnormal        20  "
      ]
     },
     "execution_count": 41,
     "metadata": {},
     "output_type": "execute_result"
    }
   ],
   "source": [
    "##drop unnecessary features (columns)\n",
    "data=data.drop(columns=['Name', 'Date of Admission', 'Doctor', 'Discharge Date', 'Doctor', 'Hospital','Billing Amount'])\n",
    "data.head()"
   ]
  },
  {
   "cell_type": "code",
   "execution_count": 42,
   "id": "c6186b03-8893-4653-a075-3122942ca3ac",
   "metadata": {},
   "outputs": [],
   "source": [
    "##transform categorical features into numerical using label encoder\n",
    "encoder = LabelEncoder()\n",
    "categorical_features= ['Gender', 'Blood Type', 'Medical Condition', 'Insurance Provider', 'Admission Type', 'Medication', 'Test Results']\n",
    "for features in categorical_features:\n",
    "    data[features]=encoder.fit_transform(data[features])"
   ]
  },
  {
   "cell_type": "code",
   "execution_count": 43,
   "id": "7c813541-f612-4b5b-b895-7e91bb10c99f",
   "metadata": {},
   "outputs": [
    {
     "data": {
      "text/html": [
       "<div>\n",
       "<style scoped>\n",
       "    .dataframe tbody tr th:only-of-type {\n",
       "        vertical-align: middle;\n",
       "    }\n",
       "\n",
       "    .dataframe tbody tr th {\n",
       "        vertical-align: top;\n",
       "    }\n",
       "\n",
       "    .dataframe thead th {\n",
       "        text-align: right;\n",
       "    }\n",
       "</style>\n",
       "<table border=\"1\" class=\"dataframe\">\n",
       "  <thead>\n",
       "    <tr style=\"text-align: right;\">\n",
       "      <th></th>\n",
       "      <th>Age</th>\n",
       "      <th>Gender</th>\n",
       "      <th>Blood Type</th>\n",
       "      <th>Medical Condition</th>\n",
       "      <th>Insurance Provider</th>\n",
       "      <th>Room Number</th>\n",
       "      <th>Admission Type</th>\n",
       "      <th>Medication</th>\n",
       "      <th>Test Results</th>\n",
       "      <th>Duration</th>\n",
       "    </tr>\n",
       "  </thead>\n",
       "  <tbody>\n",
       "    <tr>\n",
       "      <th>0</th>\n",
       "      <td>30</td>\n",
       "      <td>1</td>\n",
       "      <td>5</td>\n",
       "      <td>2</td>\n",
       "      <td>1</td>\n",
       "      <td>328</td>\n",
       "      <td>2</td>\n",
       "      <td>3</td>\n",
       "      <td>2</td>\n",
       "      <td>2</td>\n",
       "    </tr>\n",
       "    <tr>\n",
       "      <th>1</th>\n",
       "      <td>62</td>\n",
       "      <td>1</td>\n",
       "      <td>0</td>\n",
       "      <td>5</td>\n",
       "      <td>3</td>\n",
       "      <td>265</td>\n",
       "      <td>1</td>\n",
       "      <td>1</td>\n",
       "      <td>1</td>\n",
       "      <td>6</td>\n",
       "    </tr>\n",
       "    <tr>\n",
       "      <th>2</th>\n",
       "      <td>76</td>\n",
       "      <td>0</td>\n",
       "      <td>1</td>\n",
       "      <td>5</td>\n",
       "      <td>0</td>\n",
       "      <td>205</td>\n",
       "      <td>1</td>\n",
       "      <td>0</td>\n",
       "      <td>2</td>\n",
       "      <td>15</td>\n",
       "    </tr>\n",
       "    <tr>\n",
       "      <th>3</th>\n",
       "      <td>28</td>\n",
       "      <td>0</td>\n",
       "      <td>6</td>\n",
       "      <td>3</td>\n",
       "      <td>3</td>\n",
       "      <td>450</td>\n",
       "      <td>0</td>\n",
       "      <td>1</td>\n",
       "      <td>0</td>\n",
       "      <td>30</td>\n",
       "    </tr>\n",
       "    <tr>\n",
       "      <th>4</th>\n",
       "      <td>43</td>\n",
       "      <td>0</td>\n",
       "      <td>2</td>\n",
       "      <td>2</td>\n",
       "      <td>0</td>\n",
       "      <td>458</td>\n",
       "      <td>2</td>\n",
       "      <td>4</td>\n",
       "      <td>0</td>\n",
       "      <td>20</td>\n",
       "    </tr>\n",
       "  </tbody>\n",
       "</table>\n",
       "</div>"
      ],
      "text/plain": [
       "   Age  Gender  Blood Type  Medical Condition  Insurance Provider  \\\n",
       "0   30       1           5                  2                   1   \n",
       "1   62       1           0                  5                   3   \n",
       "2   76       0           1                  5                   0   \n",
       "3   28       0           6                  3                   3   \n",
       "4   43       0           2                  2                   0   \n",
       "\n",
       "   Room Number  Admission Type  Medication  Test Results  Duration  \n",
       "0          328               2           3             2         2  \n",
       "1          265               1           1             1         6  \n",
       "2          205               1           0             2        15  \n",
       "3          450               0           1             0        30  \n",
       "4          458               2           4             0        20  "
      ]
     },
     "execution_count": 43,
     "metadata": {},
     "output_type": "execute_result"
    }
   ],
   "source": [
    "## confirming categorical features have been converted into numerical\n",
    "data.head()"
   ]
  },
  {
   "cell_type": "code",
   "execution_count": 44,
   "id": "33557878-4aeb-4f13-b0bb-5abea0bf47e7",
   "metadata": {},
   "outputs": [],
   "source": [
    "##define independentt variable x and dependent variable y\n",
    "X = data.drop(columns=['Test Results'])\n",
    "y = data['Test Results']\n",
    "\n",
    "\n",
    "##split data into train and test samples\n",
    "X_train, X_test, y_train, y_test= train_test_split(X,y,test_size=0.2,random_state=42)\n",
    "\n",
    "\n",
    "scaler=StandardScaler()\n",
    "X_train_scaled = scaler.fit_transform(X_train)\n",
    "X_test_scaled = scaler.transform(X_test)"
   ]
  },
  {
   "cell_type": "code",
   "execution_count": 45,
   "id": "f88f03d0-d5b7-4ce3-8040-24bf116c019b",
   "metadata": {},
   "outputs": [],
   "source": [
    "##define regression model\n",
    "model=LinearRegression()\n",
    "\n",
    "\n",
    "##apply model on training sample\n",
    "model.fit(X_train_scaled, y_train)\n",
    "\n",
    "##make predictions on test samples\n",
    "y_predict=model.predict(X_test_scaled)"
   ]
  },
  {
   "cell_type": "code",
   "execution_count": 46,
   "id": "0841e923-1532-4d5d-8b68-668ef06e9064",
   "metadata": {},
   "outputs": [
    {
     "name": "stdout",
     "output_type": "stream",
     "text": [
      "model_RLSE => 0.8156109405290196\n",
      "r2 score => -0.0002768379440276636\n"
     ]
    },
    {
     "name": "stderr",
     "output_type": "stream",
     "text": [
      "C:\\Users\\USER\\anaconda3\\Lib\\site-packages\\sklearn\\metrics\\_regression.py:483: FutureWarning: 'squared' is deprecated in version 1.4 and will be removed in 1.6. To calculate the root mean squared error, use the function'root_mean_squared_error'.\n",
      "  warnings.warn(\n"
     ]
    }
   ],
   "source": [
    "##evaluate model performance\n",
    "print('model_RLSE =>', mean_squared_error(y_test, y_predict, squared=False))\n",
    "print('r2 score =>', r2_score(y_test, y_predict))"
   ]
  },
  {
   "cell_type": "markdown",
   "id": "c6a5c49c-f021-43a3-a15f-d44d100a72aa",
   "metadata": {},
   "source": [
    "**Predictive Analysis Report\n",
    "This 0.8117 RMSE suggests that the linear regression model is a good fit for the data, with about 81.57% of the variation\n",
    "in the dependent variable explained by the model.\n",
    "R2 score of -0.0003 is a low R-squared value, indicating that the model is not predicting the dependent variable well. this could be a result of overfitting the training data, resulting in a high Model_RLSE value. it could also be a result of data leakage between the training and the test sets and lastly, the RLSE model might not be the best model for the data.**"
   ]
  },
  {
   "cell_type": "code",
   "execution_count": 48,
   "id": "7553b2e9-8449-4072-af59-6ba699beb437",
   "metadata": {},
   "outputs": [],
   "source": [
    "data.to_csv('data.csv',index = False)"
   ]
  }
 ],
 "metadata": {
  "kernelspec": {
   "display_name": "Python 3 (ipykernel)",
   "language": "python",
   "name": "python3"
  },
  "language_info": {
   "codemirror_mode": {
    "name": "ipython",
    "version": 3
   },
   "file_extension": ".py",
   "mimetype": "text/x-python",
   "name": "python",
   "nbconvert_exporter": "python",
   "pygments_lexer": "ipython3",
   "version": "3.12.4"
  }
 },
 "nbformat": 4,
 "nbformat_minor": 5
}
